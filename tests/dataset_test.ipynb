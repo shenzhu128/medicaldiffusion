{
 "cells": [
  {
   "cell_type": "code",
   "execution_count": null,
   "id": "7384886f-e38b-41a7-b89a-ebbfd6305c13",
   "metadata": {
    "tags": []
   },
   "outputs": [],
   "source": [
    "import sys\n",
    "\n",
    "sys.path.append(\"..\")\n",
    "from dataset import combined_brain"
   ]
  },
  {
   "cell_type": "code",
   "execution_count": 2,
   "id": "ec24c812-3dc4-486a-90c9-a5215b36fecb",
   "metadata": {
    "tags": []
   },
   "outputs": [
    {
     "name": "stdout",
     "output_type": "stream",
     "text": [
      "All data: 3546\n",
      "Dataset size: 3335\n",
      "torch.Size([1, 176, 208, 180])\n"
     ]
    }
   ],
   "source": [
    "dataset = combined_brain.CombinedBrainDataset(\n",
    "    root_dir=\"/home/sz9jt/data/t1w_processed/outputs\", type=\"train+val\"\n",
    ")\n",
    "print(dataset[0][\"data\"].shape)"
   ]
  },
  {
   "cell_type": "code",
   "execution_count": 3,
   "id": "537f811e-e9c8-4652-a932-49a5780c2695",
   "metadata": {},
   "outputs": [
    {
     "name": "stdout",
     "output_type": "stream",
     "text": [
      "All data: 3545\n",
      "Dataset size: 3545\n",
      "torch.Size([1, 128, 128, 128])\n"
     ]
    }
   ],
   "source": [
    "dataset = combined_brain.CombinedBrainDataset17mm(\n",
    "    root_dir=\"/home/sz9jt/data/t1w_processed/outputs\", type=\"all\"\n",
    ")\n",
    "print(dataset[0][\"data\"].shape)"
   ]
  }
 ],
 "metadata": {
  "kernelspec": {
   "display_name": "medicaldiffusion",
   "language": "python",
   "name": "medicaldiffusion"
  },
  "language_info": {
   "codemirror_mode": {
    "name": "ipython",
    "version": 3
   },
   "file_extension": ".py",
   "mimetype": "text/x-python",
   "name": "python",
   "nbconvert_exporter": "python",
   "pygments_lexer": "ipython3",
   "version": "3.11.6"
  }
 },
 "nbformat": 4,
 "nbformat_minor": 5
}
