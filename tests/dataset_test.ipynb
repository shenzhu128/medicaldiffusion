{
 "cells": [
  {
   "cell_type": "code",
   "execution_count": 1,
   "id": "7384886f-e38b-41a7-b89a-ebbfd6305c13",
   "metadata": {
    "tags": []
   },
   "outputs": [],
   "source": [
    "import sys\n",
    "sys.path.append(\"..\")\n",
    "from dataset import combined_brain"
   ]
  },
  {
   "cell_type": "code",
   "execution_count": 2,
   "id": "ec24c812-3dc4-486a-90c9-a5215b36fecb",
   "metadata": {
    "tags": []
   },
   "outputs": [
    {
     "name": "stdout",
     "output_type": "stream",
     "text": [
      "All data: 3546\n",
      "Dataset size: 3335\n"
     ]
    }
   ],
   "source": [
    "dataset = combined_brain.CombinedBrainDataset(root_dir=\"/home/sz9jt/data/t1w_processed/outputs\", type=\"train+val\")"
   ]
  },
  {
   "cell_type": "code",
   "execution_count": 5,
   "id": "537f811e-e9c8-4652-a932-49a5780c2695",
   "metadata": {},
   "outputs": [
    {
     "name": "stdout",
     "output_type": "stream",
     "text": [
      "torch.Size([1, 176, 208, 180])\n"
     ]
    }
   ],
   "source": [
    "print(dataset[0][\"data\"].shape)"
   ]
  }
 ],
 "metadata": {
  "kernelspec": {
   "display_name": "medicaldiffusion",
   "language": "python",
   "name": "medicaldiffusion"
  },
  "language_info": {
   "codemirror_mode": {
    "name": "ipython",
    "version": 3
   },
   "file_extension": ".py",
   "mimetype": "text/x-python",
   "name": "python",
   "nbconvert_exporter": "python",
   "pygments_lexer": "ipython3",
   "version": "3.11.6"
  }
 },
 "nbformat": 4,
 "nbformat_minor": 5
}
