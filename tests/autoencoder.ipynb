{
 "cells": [
  {
   "cell_type": "code",
   "execution_count": 14,
   "id": "ab89c8ef-949b-4c61-925a-9dd037f403bd",
   "metadata": {
    "tags": []
   },
   "outputs": [],
   "source": [
    "import sys\n",
    "\n",
    "sys.path.append(\"..\")\n",
    "\n",
    "from vq_gan_3d.model import VQGAN\n",
    "from omegaconf import OmegaConf\n",
    "from dataset import CombinedBrainDataset\n",
    "import torch\n",
    "\n",
    "import matplotlib.pyplot as plt"
   ]
  },
  {
   "cell_type": "code",
   "execution_count": 15,
   "id": "0969cd99-cf47-40dc-9fa5-a4d26764a97c",
   "metadata": {},
   "outputs": [],
   "source": [
    "configure_path = \"/home/sz9jt/data/t1w_processed/checkpoints/medicaldiffusion/vqgan/COMBINED_BRAIN/lightning_logs/version_60369664/hparams.yaml\"\n",
    "ckpt_path = \"/home/sz9jt/data/t1w_processed/checkpoints/medicaldiffusion/vqgan/COMBINED_BRAIN/lightning_logs/version_60369664/checkpoints/epoch=162-step=135000-train/recon_loss=149.84.ckpt\"\n",
    "\n",
    "cfg = OmegaConf.load(configure_path)\n",
    "cfg = cfg.cfg\n",
    "\n",
    "data = torch.load(ckpt_path)\n",
    "model = VQGAN(cfg)\n",
    "model.load_state_dict(data[\"state_dict\"])\n",
    "\n",
    "test_dataset = CombinedBrainDataset(root_dir=cfg.dataset.root_dir, type=\"test\")\n",
    "test_input = test_dataset[0][\"data\"].unsqueeze(0)\n",
    "\n",
    "device = torch.device(\"cuda:0\")\n",
    "model.to(device)\n",
    "test_input = test_input.to(device)\n",
    "model.eval()\n",
    "with torch.no_grad():\n",
    "    z = model.encode(test_input)\n",
    "    test_output = model.decode(z)\n",
    "test_output = test_output.detach().cpu().numpy().squeeze()\n",
    "plt.imshow(test_output[:, :, 100], cmap=\"gray\")"
   ]
  }
 ],
 "metadata": {
  "kernelspec": {
   "display_name": "medicaldiffusion",
   "language": "python",
   "name": "medicaldiffusion"
  },
  "language_info": {
   "codemirror_mode": {
    "name": "ipython",
    "version": 3
   },
   "file_extension": ".py",
   "mimetype": "text/x-python",
   "name": "python",
   "nbconvert_exporter": "python",
   "pygments_lexer": "ipython3",
   "version": "3.11.6"
  }
 },
 "nbformat": 4,
 "nbformat_minor": 5
}
